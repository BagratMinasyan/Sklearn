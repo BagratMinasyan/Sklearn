{
 "cells": [
  {
   "cell_type": "code",
   "execution_count": 43,
   "id": "132f79ea",
   "metadata": {},
   "outputs": [],
   "source": [
    "import pandas as pd\n",
    "import numpy as np\n",
    "from sklearn.linear_model import Ridge\n",
    "from sklearn.metrics import r2_score\n",
    "from sklearn.preprocessing import OneHotEncoder\n",
    "from sklearn.preprocessing import PolynomialFeatures\n",
    "from sklearn.model_selection import KFold\n",
    "from sklearn.model_selection import train_test_split\n",
    "import joblib\n",
    "df = pd.read_csv('houses_train.csv')\n",
    "df.drop(['region', 'url','Unnamed: 0'], axis=1, inplace=True)\n",
    "if 'price' in df.columns:\n",
    "    y=df.pop('price')"
   ]
  },
  {
   "cell_type": "code",
   "execution_count": 38,
   "id": "6da540da",
   "metadata": {},
   "outputs": [
    {
     "data": {
      "text/html": [
       "<style>#sk-container-id-10 {color: black;}#sk-container-id-10 pre{padding: 0;}#sk-container-id-10 div.sk-toggleable {background-color: white;}#sk-container-id-10 label.sk-toggleable__label {cursor: pointer;display: block;width: 100%;margin-bottom: 0;padding: 0.3em;box-sizing: border-box;text-align: center;}#sk-container-id-10 label.sk-toggleable__label-arrow:before {content: \"▸\";float: left;margin-right: 0.25em;color: #696969;}#sk-container-id-10 label.sk-toggleable__label-arrow:hover:before {color: black;}#sk-container-id-10 div.sk-estimator:hover label.sk-toggleable__label-arrow:before {color: black;}#sk-container-id-10 div.sk-toggleable__content {max-height: 0;max-width: 0;overflow: hidden;text-align: left;background-color: #f0f8ff;}#sk-container-id-10 div.sk-toggleable__content pre {margin: 0.2em;color: black;border-radius: 0.25em;background-color: #f0f8ff;}#sk-container-id-10 input.sk-toggleable__control:checked~div.sk-toggleable__content {max-height: 200px;max-width: 100%;overflow: auto;}#sk-container-id-10 input.sk-toggleable__control:checked~label.sk-toggleable__label-arrow:before {content: \"▾\";}#sk-container-id-10 div.sk-estimator input.sk-toggleable__control:checked~label.sk-toggleable__label {background-color: #d4ebff;}#sk-container-id-10 div.sk-label input.sk-toggleable__control:checked~label.sk-toggleable__label {background-color: #d4ebff;}#sk-container-id-10 input.sk-hidden--visually {border: 0;clip: rect(1px 1px 1px 1px);clip: rect(1px, 1px, 1px, 1px);height: 1px;margin: -1px;overflow: hidden;padding: 0;position: absolute;width: 1px;}#sk-container-id-10 div.sk-estimator {font-family: monospace;background-color: #f0f8ff;border: 1px dotted black;border-radius: 0.25em;box-sizing: border-box;margin-bottom: 0.5em;}#sk-container-id-10 div.sk-estimator:hover {background-color: #d4ebff;}#sk-container-id-10 div.sk-parallel-item::after {content: \"\";width: 100%;border-bottom: 1px solid gray;flex-grow: 1;}#sk-container-id-10 div.sk-label:hover label.sk-toggleable__label {background-color: #d4ebff;}#sk-container-id-10 div.sk-serial::before {content: \"\";position: absolute;border-left: 1px solid gray;box-sizing: border-box;top: 0;bottom: 0;left: 50%;z-index: 0;}#sk-container-id-10 div.sk-serial {display: flex;flex-direction: column;align-items: center;background-color: white;padding-right: 0.2em;padding-left: 0.2em;position: relative;}#sk-container-id-10 div.sk-item {position: relative;z-index: 1;}#sk-container-id-10 div.sk-parallel {display: flex;align-items: stretch;justify-content: center;background-color: white;position: relative;}#sk-container-id-10 div.sk-item::before, #sk-container-id-10 div.sk-parallel-item::before {content: \"\";position: absolute;border-left: 1px solid gray;box-sizing: border-box;top: 0;bottom: 0;left: 50%;z-index: -1;}#sk-container-id-10 div.sk-parallel-item {display: flex;flex-direction: column;z-index: 1;position: relative;background-color: white;}#sk-container-id-10 div.sk-parallel-item:first-child::after {align-self: flex-end;width: 50%;}#sk-container-id-10 div.sk-parallel-item:last-child::after {align-self: flex-start;width: 50%;}#sk-container-id-10 div.sk-parallel-item:only-child::after {width: 0;}#sk-container-id-10 div.sk-dashed-wrapped {border: 1px dashed gray;margin: 0 0.4em 0.5em 0.4em;box-sizing: border-box;padding-bottom: 0.4em;background-color: white;}#sk-container-id-10 div.sk-label label {font-family: monospace;font-weight: bold;display: inline-block;line-height: 1.2em;}#sk-container-id-10 div.sk-label-container {text-align: center;}#sk-container-id-10 div.sk-container {/* jupyter's `normalize.less` sets `[hidden] { display: none; }` but bootstrap.min.css set `[hidden] { display: none !important; }` so we also need the `!important` here to be able to override the default hidden behavior on the sphinx rendered scikit-learn.org. See: https://github.com/scikit-learn/scikit-learn/issues/21755 */display: inline-block !important;position: relative;}#sk-container-id-10 div.sk-text-repr-fallback {display: none;}</style><div id=\"sk-container-id-10\" class=\"sk-top-container\"><div class=\"sk-text-repr-fallback\"><pre>Ridge(alpha=1)</pre><b>In a Jupyter environment, please rerun this cell to show the HTML representation or trust the notebook. <br />On GitHub, the HTML representation is unable to render, please try loading this page with nbviewer.org.</b></div><div class=\"sk-container\" hidden><div class=\"sk-item\"><div class=\"sk-estimator sk-toggleable\"><input class=\"sk-toggleable__control sk-hidden--visually\" id=\"sk-estimator-id-10\" type=\"checkbox\" checked><label for=\"sk-estimator-id-10\" class=\"sk-toggleable__label sk-toggleable__label-arrow\">Ridge</label><div class=\"sk-toggleable__content\"><pre>Ridge(alpha=1)</pre></div></div></div></div></div>"
      ],
      "text/plain": [
       "Ridge(alpha=1)"
      ]
     },
     "execution_count": 38,
     "metadata": {},
     "output_type": "execute_result"
    }
   ],
   "source": [
    "x_train,x_test,y_train,y_test=train_test_split(df,y,train_size=0.9)\n",
    "uniq=[]\n",
    "for i in x_train.select_dtypes('object'):\n",
    "    uniq.append(np.unique(x_train[i]))\n",
    "    \n",
    "ohec=OneHotEncoder(handle_unknown='ignore',sparse_output=False).fit(x_train.select_dtypes('object'))\n",
    "x_train_num=PolynomialFeatures(degree=2,include_bias=False).fit_transform(x_train.select_dtypes('number').values)\n",
    "x_train_obj=ohec.transform(x_train.select_dtypes('object'))\n",
    "x_train1=np.concatenate([x_train_num,x_train_obj],axis=1)\n",
    "\n",
    "model=Ridge(alpha=1)\n",
    "model.fit(x_train1,y_train)"
   ]
  },
  {
   "cell_type": "code",
   "execution_count": 39,
   "id": "7cc522cd",
   "metadata": {},
   "outputs": [],
   "source": [
    "class house_price_predictor():\n",
    "    def __init__(self,model,ohec,uniq,x_train):\n",
    "        import pandas as pd\n",
    "        import numpy as np\n",
    "        from sklearn.linear_model import Ridge\n",
    "        from sklearn.metrics import r2_score\n",
    "        from sklearn.preprocessing import OneHotEncoder\n",
    "        from sklearn.preprocessing import PolynomialFeatures\n",
    "        from sklearn.model_selection import KFold\n",
    "        self.model=model\n",
    "        self.ohec=ohec\n",
    "        self.uniq=uniq\n",
    "        self.x_train=x_train.select_dtypes('object')\n",
    "    def prep_for_predict(self,data):\n",
    "        x_test_obj=data.select_dtypes('object')\n",
    "        for i in range(len(x_test_obj)):\n",
    "            a=[]\n",
    "            for j in range(len(x_test_obj.iloc[i])):\n",
    "                if x_test_obj.iloc[i,j] not in uniq[j]:\n",
    "                    a.append(j)\n",
    "            if a:\n",
    "                x_test_obj.iloc[i]=self.handle_unseen(a,x_test_obj.iloc[i])\n",
    "        data=pd.concat([data.select_dtypes('number'),x_test_obj],axis=1)\n",
    "        return data\n",
    "    def handle_unseen(self,l,x):\n",
    "        print(x.values)\n",
    "        arr=[]\n",
    "        for i in range(len(self.x_train)):\n",
    "            a=0\n",
    "            for j in range(len(self.x_train.iloc[i])):\n",
    "                if x[j] != self.x_train.iloc[i][j]:\n",
    "                    a+=1\n",
    "            arr.append(a)\n",
    "        arr=np.array(arr)\n",
    "        idmin=np.argmin(arr)\n",
    "        for i in l:\n",
    "            x[i]=self.x_train.iloc[idmin,i]\n",
    "        print(x.values)\n",
    "        return x\n",
    "        \n",
    "        \n",
    "    def score(self,x,y,handle_unseen='do nothing'):\n",
    "        assert type(x) == pd.core.frame.DataFrame, \"data should be pandas dataframe type\"\n",
    "        if handle_unseen=='handle':\n",
    "            x=self.prep_for_predict(x)\n",
    "        x_test_num=PolynomialFeatures(degree=2,include_bias=False).fit_transform(x.select_dtypes('number').values)\n",
    "        x_test_cat=self.ohec.transform(x.select_dtypes('object'))\n",
    "        x_test=np.concatenate([x_test_num,x_test_cat],axis=1)\n",
    "        y_pred=self.model.predict(x_test)\n",
    "        return r2_score(y,y_pred)\n",
    "\n",
    "final=house_price_predictor(model,ohec,uniq,x_train)"
   ]
  },
  {
   "cell_type": "code",
   "execution_count": 40,
   "id": "11ec6e7e",
   "metadata": {},
   "outputs": [
    {
     "data": {
      "text/plain": [
       "0.8109736371673452"
      ]
     },
     "execution_count": 40,
     "metadata": {},
     "output_type": "execute_result"
    }
   ],
   "source": [
    "final.score(x_test,y_test)"
   ]
  },
  {
   "cell_type": "code",
   "execution_count": 41,
   "id": "944dfbfc",
   "metadata": {},
   "outputs": [
    {
     "name": "stdout",
     "output_type": "stream",
     "text": [
      "['good' 'Nor Norq' 'Muradyan St' 'panel']\n",
      "['good' 'Nor Norq' 'Mar St' 'panel']\n",
      "['newly repaired' 'Erebuni' 'Lisinyan st.' 'stone']\n",
      "['newly repaired' 'Erebuni' 'Artsakh ave' 'stone']\n",
      "['newly repaired' 'Center' 'Koryun alley' 'stone']\n",
      "['newly repaired' 'Center' 'Tigran Mets Ave' 'stone']\n",
      "['newly repaired' 'Shengavit' 'Aragats St' 'panel']\n",
      "['newly repaired' 'Shengavit' 'Tadevosyan St' 'panel']\n",
      "['newly repaired' 'Erebuni' 'Lisinyan st.' 'stone']\n",
      "['newly repaired' 'Erebuni' 'Artsakh ave' 'stone']\n",
      "['good' 'Center' 'Tigran Mets Ave 2 alley' 'stone']\n",
      "['good' 'Center' 'Kilikia district' 'stone']\n",
      "['newly repaired' 'Nor Norq' 'Vaxtangov St' 'panel']\n",
      "['newly repaired' 'Nor Norq' 'Vilnyus St' 'panel']\n",
      "['good' 'Nor Norq' 'Mar alley' 'stone']\n",
      "['good' 'Nor Norq' 'Gyurjyan St' 'stone']\n",
      "['zero condition' 'Avan' 'Avan 4 St' 'monolit']\n",
      "['zero condition' 'Avan' 'Tsarav Aghbyur St' 'monolit']\n",
      "['newly repaired' 'Qanaqer-Zeytun' 'Kanaker 1 St' 'stone']\n",
      "['newly repaired' 'Qanaqer-Zeytun' 'Davit Anhaxt St' 'stone']\n",
      "['good' 'Norq Marash' 'Norq 10 St' 'other']\n",
      "['good' 'Norq Marash' 'Hovsep Emin St' 'other']\n",
      "['good' 'Arabkir' 'Aygedzor alley' 'stone']\n",
      "['good' 'Arabkir' 'Babayan St' 'stone']\n",
      "['good' 'Nor Norq' 'Mar alley' 'panel']\n",
      "['good' 'Nor Norq' 'Mar St' 'panel']\n",
      "['good' 'Shengavit' 'Shengavit' 'panel']\n",
      "['good' 'Shengavit' 'Manandyan St' 'panel']\n"
     ]
    },
    {
     "data": {
      "text/plain": [
       "0.8077106941786556"
      ]
     },
     "execution_count": 41,
     "metadata": {},
     "output_type": "execute_result"
    }
   ],
   "source": [
    "final.score(x_test,y_test,handle_unseen='handle')"
   ]
  }
 ],
 "metadata": {
  "kernelspec": {
   "display_name": "Python 3 (ipykernel)",
   "language": "python",
   "name": "python3"
  },
  "language_info": {
   "codemirror_mode": {
    "name": "ipython",
    "version": 3
   },
   "file_extension": ".py",
   "mimetype": "text/x-python",
   "name": "python",
   "nbconvert_exporter": "python",
   "pygments_lexer": "ipython3",
   "version": "3.11.5"
  }
 },
 "nbformat": 4,
 "nbformat_minor": 5
}
