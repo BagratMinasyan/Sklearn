{
 "cells": [
  {
   "cell_type": "code",
   "execution_count": 30,
   "id": "b735e6b0",
   "metadata": {},
   "outputs": [],
   "source": [
    "import numpy as np\n",
    "import pandas as pd\n",
    "import matplotlib.pyplot as plt\n",
    "from sklearn.model_selection import KFold,train_test_split,cross_val_score,GridSearchCV\n",
    "from sklearn.metrics import classification_report,confusion_matrix,mean_absolute_error,r2_score\n",
    "from sklearn.pipeline import make_pipeline,Pipeline\n",
    "from sklearn.preprocessing import OneHotEncoder,LabelEncoder,StandardScaler\n",
    "from drawdata import draw_scatter\n",
    "from sklearn.neighbors import KNeighborsClassifier\n",
    "from sklearn.svm import SVC\n",
    "from sklearn.linear_model import RidgeClassifier\n",
    "from sklearn.ensemble import RandomForestClassifier\n",
    "import warnings\n",
    "warnings.filterwarnings('ignore')"
   ]
  },
  {
   "cell_type": "code",
   "execution_count": 25,
   "id": "e70a61a1",
   "metadata": {},
   "outputs": [
    {
     "name": "stdout",
     "output_type": "stream",
     "text": [
      "(289, 2)\n",
      "(289,)\n"
     ]
    }
   ],
   "source": [
    "x=pd.read_csv('4_class_classification.csv').iloc[:,1:]\n",
    "y=x.pop('z').values\n",
    "y=LabelEncoder().fit_transform(y.reshape(-1,1))\n",
    "x=x.values\n",
    "x[:,1]*=1000\n",
    "x_train,x_test,y_train,y_test=train_test_split(x,y,train_size=0.8,stratify=y)\n",
    "print(x_train.shape)\n",
    "print(y_train.shape)"
   ]
  },
  {
   "cell_type": "markdown",
   "id": "90522da7",
   "metadata": {},
   "source": [
    "# make pipeline"
   ]
  },
  {
   "cell_type": "code",
   "execution_count": 20,
   "id": "74ac21dd",
   "metadata": {
    "collapsed": true
   },
   "outputs": [
    {
     "name": "stdout",
     "output_type": "stream",
     "text": [
      "Fitting 5 folds for each of 10 candidates, totalling 50 fits\n",
      "[CV 1/5; 1/10] START svc__C=0.001, svc__class_weight=balanced, svc__kernel=rbf..\n",
      "[CV 1/5; 1/10] END svc__C=0.001, svc__class_weight=balanced, svc__kernel=rbf;, score=0.123 total time=   0.0s\n",
      "[CV 2/5; 1/10] START svc__C=0.001, svc__class_weight=balanced, svc__kernel=rbf..\n",
      "[CV 2/5; 1/10] END svc__C=0.001, svc__class_weight=balanced, svc__kernel=rbf;, score=0.067 total time=   0.0s\n",
      "[CV 3/5; 1/10] START svc__C=0.001, svc__class_weight=balanced, svc__kernel=rbf..\n",
      "[CV 3/5; 1/10] END svc__C=0.001, svc__class_weight=balanced, svc__kernel=rbf;, score=0.137 total time=   0.0s\n",
      "[CV 4/5; 1/10] START svc__C=0.001, svc__class_weight=balanced, svc__kernel=rbf..\n",
      "[CV 4/5; 1/10] END svc__C=0.001, svc__class_weight=balanced, svc__kernel=rbf;, score=0.137 total time=   0.0s\n",
      "[CV 5/5; 1/10] START svc__C=0.001, svc__class_weight=balanced, svc__kernel=rbf..\n",
      "[CV 5/5; 1/10] END svc__C=0.001, svc__class_weight=balanced, svc__kernel=rbf;, score=0.075 total time=   0.0s\n",
      "[CV 1/5; 2/10] START svc__C=0.001, svc__class_weight=None, svc__kernel=rbf......\n",
      "[CV 1/5; 2/10] END svc__C=0.001, svc__class_weight=None, svc__kernel=rbf;, score=0.137 total time=   0.0s\n",
      "[CV 2/5; 2/10] START svc__C=0.001, svc__class_weight=None, svc__kernel=rbf......\n",
      "[CV 2/5; 2/10] END svc__C=0.001, svc__class_weight=None, svc__kernel=rbf;, score=0.137 total time=   0.0s\n",
      "[CV 3/5; 2/10] START svc__C=0.001, svc__class_weight=None, svc__kernel=rbf......\n",
      "[CV 3/5; 2/10] END svc__C=0.001, svc__class_weight=None, svc__kernel=rbf;, score=0.137 total time=   0.0s\n",
      "[CV 4/5; 2/10] START svc__C=0.001, svc__class_weight=None, svc__kernel=rbf......\n",
      "[CV 4/5; 2/10] END svc__C=0.001, svc__class_weight=None, svc__kernel=rbf;, score=0.137 total time=   0.0s\n",
      "[CV 5/5; 2/10] START svc__C=0.001, svc__class_weight=None, svc__kernel=rbf......\n",
      "[CV 5/5; 2/10] END svc__C=0.001, svc__class_weight=None, svc__kernel=rbf;, score=0.139 total time=   0.0s\n",
      "[CV 1/5; 3/10] START svc__C=0.1, svc__class_weight=balanced, svc__kernel=rbf....\n",
      "[CV 1/5; 3/10] END svc__C=0.1, svc__class_weight=balanced, svc__kernel=rbf;, score=0.701 total time=   0.0s\n",
      "[CV 2/5; 3/10] START svc__C=0.1, svc__class_weight=balanced, svc__kernel=rbf....\n",
      "[CV 2/5; 3/10] END svc__C=0.1, svc__class_weight=balanced, svc__kernel=rbf;, score=0.649 total time=   0.0s\n",
      "[CV 3/5; 3/10] START svc__C=0.1, svc__class_weight=balanced, svc__kernel=rbf....\n",
      "[CV 3/5; 3/10] END svc__C=0.1, svc__class_weight=balanced, svc__kernel=rbf;, score=0.713 total time=   0.0s\n",
      "[CV 4/5; 3/10] START svc__C=0.1, svc__class_weight=balanced, svc__kernel=rbf....\n",
      "[CV 4/5; 3/10] END svc__C=0.1, svc__class_weight=balanced, svc__kernel=rbf;, score=0.740 total time=   0.0s\n",
      "[CV 5/5; 3/10] START svc__C=0.1, svc__class_weight=balanced, svc__kernel=rbf....\n",
      "[CV 5/5; 3/10] END svc__C=0.1, svc__class_weight=balanced, svc__kernel=rbf;, score=0.865 total time=   0.0s\n",
      "[CV 1/5; 4/10] START svc__C=0.1, svc__class_weight=None, svc__kernel=rbf........\n",
      "[CV 1/5; 4/10] END svc__C=0.1, svc__class_weight=None, svc__kernel=rbf;, score=0.694 total time=   0.0s\n",
      "[CV 2/5; 4/10] START svc__C=0.1, svc__class_weight=None, svc__kernel=rbf........\n",
      "[CV 2/5; 4/10] END svc__C=0.1, svc__class_weight=None, svc__kernel=rbf;, score=0.790 total time=   0.0s\n",
      "[CV 3/5; 4/10] START svc__C=0.1, svc__class_weight=None, svc__kernel=rbf........\n",
      "[CV 3/5; 4/10] END svc__C=0.1, svc__class_weight=None, svc__kernel=rbf;, score=0.632 total time=   0.0s\n",
      "[CV 4/5; 4/10] START svc__C=0.1, svc__class_weight=None, svc__kernel=rbf........\n",
      "[CV 4/5; 4/10] END svc__C=0.1, svc__class_weight=None, svc__kernel=rbf;, score=0.657 total time=   0.0s\n",
      "[CV 5/5; 4/10] START svc__C=0.1, svc__class_weight=None, svc__kernel=rbf........\n",
      "[CV 5/5; 4/10] END svc__C=0.1, svc__class_weight=None, svc__kernel=rbf;, score=0.850 total time=   0.0s\n",
      "[CV 1/5; 5/10] START svc__C=1000, svc__class_weight=balanced, svc__kernel=rbf...\n",
      "[CV 1/5; 5/10] END svc__C=1000, svc__class_weight=balanced, svc__kernel=rbf;, score=0.921 total time=   0.0s\n",
      "[CV 2/5; 5/10] START svc__C=1000, svc__class_weight=balanced, svc__kernel=rbf...\n",
      "[CV 2/5; 5/10] END svc__C=1000, svc__class_weight=balanced, svc__kernel=rbf;, score=0.959 total time=   0.0s\n",
      "[CV 3/5; 5/10] START svc__C=1000, svc__class_weight=balanced, svc__kernel=rbf...\n",
      "[CV 3/5; 5/10] END svc__C=1000, svc__class_weight=balanced, svc__kernel=rbf;, score=0.805 total time=   0.0s\n",
      "[CV 4/5; 5/10] START svc__C=1000, svc__class_weight=balanced, svc__kernel=rbf...\n",
      "[CV 4/5; 5/10] END svc__C=1000, svc__class_weight=balanced, svc__kernel=rbf;, score=0.941 total time=   0.0s\n",
      "[CV 5/5; 5/10] START svc__C=1000, svc__class_weight=balanced, svc__kernel=rbf...\n",
      "[CV 5/5; 5/10] END svc__C=1000, svc__class_weight=balanced, svc__kernel=rbf;, score=0.947 total time=   0.0s\n",
      "[CV 1/5; 6/10] START svc__C=1000, svc__class_weight=None, svc__kernel=rbf.......\n",
      "[CV 1/5; 6/10] END svc__C=1000, svc__class_weight=None, svc__kernel=rbf;, score=0.921 total time=   0.0s\n",
      "[CV 2/5; 6/10] START svc__C=1000, svc__class_weight=None, svc__kernel=rbf.......\n",
      "[CV 2/5; 6/10] END svc__C=1000, svc__class_weight=None, svc__kernel=rbf;, score=0.935 total time=   0.0s\n",
      "[CV 3/5; 6/10] START svc__C=1000, svc__class_weight=None, svc__kernel=rbf.......\n",
      "[CV 3/5; 6/10] END svc__C=1000, svc__class_weight=None, svc__kernel=rbf;, score=0.780 total time=   0.0s\n",
      "[CV 4/5; 6/10] START svc__C=1000, svc__class_weight=None, svc__kernel=rbf.......\n",
      "[CV 4/5; 6/10] END svc__C=1000, svc__class_weight=None, svc__kernel=rbf;, score=0.941 total time=   0.0s\n",
      "[CV 5/5; 6/10] START svc__C=1000, svc__class_weight=None, svc__kernel=rbf.......\n",
      "[CV 5/5; 6/10] END svc__C=1000, svc__class_weight=None, svc__kernel=rbf;, score=0.947 total time=   0.0s\n",
      "[CV 1/5; 7/10] START svc__C=10000, svc__class_weight=balanced, svc__kernel=rbf..\n",
      "[CV 1/5; 7/10] END svc__C=10000, svc__class_weight=balanced, svc__kernel=rbf;, score=0.921 total time=   0.0s\n",
      "[CV 2/5; 7/10] START svc__C=10000, svc__class_weight=balanced, svc__kernel=rbf..\n",
      "[CV 2/5; 7/10] END svc__C=10000, svc__class_weight=balanced, svc__kernel=rbf;, score=0.935 total time=   0.0s\n",
      "[CV 3/5; 7/10] START svc__C=10000, svc__class_weight=balanced, svc__kernel=rbf..\n",
      "[CV 3/5; 7/10] END svc__C=10000, svc__class_weight=balanced, svc__kernel=rbf;, score=0.805 total time=   0.0s\n",
      "[CV 4/5; 7/10] START svc__C=10000, svc__class_weight=balanced, svc__kernel=rbf..\n",
      "[CV 4/5; 7/10] END svc__C=10000, svc__class_weight=balanced, svc__kernel=rbf;, score=0.941 total time=   0.0s\n",
      "[CV 5/5; 7/10] START svc__C=10000, svc__class_weight=balanced, svc__kernel=rbf..\n",
      "[CV 5/5; 7/10] END svc__C=10000, svc__class_weight=balanced, svc__kernel=rbf;, score=0.959 total time=   0.0s\n",
      "[CV 1/5; 8/10] START svc__C=10000, svc__class_weight=None, svc__kernel=rbf......\n",
      "[CV 1/5; 8/10] END svc__C=10000, svc__class_weight=None, svc__kernel=rbf;, score=0.887 total time=   0.0s\n",
      "[CV 2/5; 8/10] START svc__C=10000, svc__class_weight=None, svc__kernel=rbf......\n",
      "[CV 2/5; 8/10] END svc__C=10000, svc__class_weight=None, svc__kernel=rbf;, score=0.923 total time=   0.0s\n",
      "[CV 3/5; 8/10] START svc__C=10000, svc__class_weight=None, svc__kernel=rbf......\n",
      "[CV 3/5; 8/10] END svc__C=10000, svc__class_weight=None, svc__kernel=rbf;, score=0.780 total time=   0.0s\n",
      "[CV 4/5; 8/10] START svc__C=10000, svc__class_weight=None, svc__kernel=rbf......\n",
      "[CV 4/5; 8/10] END svc__C=10000, svc__class_weight=None, svc__kernel=rbf;, score=0.941 total time=   0.0s\n",
      "[CV 5/5; 8/10] START svc__C=10000, svc__class_weight=None, svc__kernel=rbf......\n",
      "[CV 5/5; 8/10] END svc__C=10000, svc__class_weight=None, svc__kernel=rbf;, score=0.959 total time=   0.0s\n",
      "[CV 1/5; 9/10] START svc__C=1000000, svc__class_weight=balanced, svc__kernel=rbf\n",
      "[CV 1/5; 9/10] END svc__C=1000000, svc__class_weight=balanced, svc__kernel=rbf;, score=0.874 total time=   0.1s\n",
      "[CV 2/5; 9/10] START svc__C=1000000, svc__class_weight=balanced, svc__kernel=rbf\n",
      "[CV 2/5; 9/10] END svc__C=1000000, svc__class_weight=balanced, svc__kernel=rbf;, score=0.907 total time=   0.1s\n",
      "[CV 3/5; 9/10] START svc__C=1000000, svc__class_weight=balanced, svc__kernel=rbf\n",
      "[CV 3/5; 9/10] END svc__C=1000000, svc__class_weight=balanced, svc__kernel=rbf;, score=0.805 total time=   0.0s\n",
      "[CV 4/5; 9/10] START svc__C=1000000, svc__class_weight=balanced, svc__kernel=rbf\n",
      "[CV 4/5; 9/10] END svc__C=1000000, svc__class_weight=balanced, svc__kernel=rbf;, score=0.896 total time=   0.0s\n",
      "[CV 5/5; 9/10] START svc__C=1000000, svc__class_weight=balanced, svc__kernel=rbf\n"
     ]
    },
    {
     "name": "stdout",
     "output_type": "stream",
     "text": [
      "[CV 5/5; 9/10] END svc__C=1000000, svc__class_weight=balanced, svc__kernel=rbf;, score=0.903 total time=   0.1s\n",
      "[CV 1/5; 10/10] START svc__C=1000000, svc__class_weight=None, svc__kernel=rbf...\n",
      "[CV 1/5; 10/10] END svc__C=1000000, svc__class_weight=None, svc__kernel=rbf;, score=0.870 total time=   0.0s\n",
      "[CV 2/5; 10/10] START svc__C=1000000, svc__class_weight=None, svc__kernel=rbf...\n",
      "[CV 2/5; 10/10] END svc__C=1000000, svc__class_weight=None, svc__kernel=rbf;, score=0.895 total time=   0.1s\n",
      "[CV 3/5; 10/10] START svc__C=1000000, svc__class_weight=None, svc__kernel=rbf...\n",
      "[CV 3/5; 10/10] END svc__C=1000000, svc__class_weight=None, svc__kernel=rbf;, score=0.805 total time=   0.0s\n",
      "[CV 4/5; 10/10] START svc__C=1000000, svc__class_weight=None, svc__kernel=rbf...\n",
      "[CV 4/5; 10/10] END svc__C=1000000, svc__class_weight=None, svc__kernel=rbf;, score=0.896 total time=   0.0s\n",
      "[CV 5/5; 10/10] START svc__C=1000000, svc__class_weight=None, svc__kernel=rbf...\n",
      "[CV 5/5; 10/10] END svc__C=1000000, svc__class_weight=None, svc__kernel=rbf;, score=0.903 total time=   0.1s\n"
     ]
    },
    {
     "data": {
      "text/html": [
       "<style>#sk-container-id-3 {color: black;}#sk-container-id-3 pre{padding: 0;}#sk-container-id-3 div.sk-toggleable {background-color: white;}#sk-container-id-3 label.sk-toggleable__label {cursor: pointer;display: block;width: 100%;margin-bottom: 0;padding: 0.3em;box-sizing: border-box;text-align: center;}#sk-container-id-3 label.sk-toggleable__label-arrow:before {content: \"▸\";float: left;margin-right: 0.25em;color: #696969;}#sk-container-id-3 label.sk-toggleable__label-arrow:hover:before {color: black;}#sk-container-id-3 div.sk-estimator:hover label.sk-toggleable__label-arrow:before {color: black;}#sk-container-id-3 div.sk-toggleable__content {max-height: 0;max-width: 0;overflow: hidden;text-align: left;background-color: #f0f8ff;}#sk-container-id-3 div.sk-toggleable__content pre {margin: 0.2em;color: black;border-radius: 0.25em;background-color: #f0f8ff;}#sk-container-id-3 input.sk-toggleable__control:checked~div.sk-toggleable__content {max-height: 200px;max-width: 100%;overflow: auto;}#sk-container-id-3 input.sk-toggleable__control:checked~label.sk-toggleable__label-arrow:before {content: \"▾\";}#sk-container-id-3 div.sk-estimator input.sk-toggleable__control:checked~label.sk-toggleable__label {background-color: #d4ebff;}#sk-container-id-3 div.sk-label input.sk-toggleable__control:checked~label.sk-toggleable__label {background-color: #d4ebff;}#sk-container-id-3 input.sk-hidden--visually {border: 0;clip: rect(1px 1px 1px 1px);clip: rect(1px, 1px, 1px, 1px);height: 1px;margin: -1px;overflow: hidden;padding: 0;position: absolute;width: 1px;}#sk-container-id-3 div.sk-estimator {font-family: monospace;background-color: #f0f8ff;border: 1px dotted black;border-radius: 0.25em;box-sizing: border-box;margin-bottom: 0.5em;}#sk-container-id-3 div.sk-estimator:hover {background-color: #d4ebff;}#sk-container-id-3 div.sk-parallel-item::after {content: \"\";width: 100%;border-bottom: 1px solid gray;flex-grow: 1;}#sk-container-id-3 div.sk-label:hover label.sk-toggleable__label {background-color: #d4ebff;}#sk-container-id-3 div.sk-serial::before {content: \"\";position: absolute;border-left: 1px solid gray;box-sizing: border-box;top: 0;bottom: 0;left: 50%;z-index: 0;}#sk-container-id-3 div.sk-serial {display: flex;flex-direction: column;align-items: center;background-color: white;padding-right: 0.2em;padding-left: 0.2em;position: relative;}#sk-container-id-3 div.sk-item {position: relative;z-index: 1;}#sk-container-id-3 div.sk-parallel {display: flex;align-items: stretch;justify-content: center;background-color: white;position: relative;}#sk-container-id-3 div.sk-item::before, #sk-container-id-3 div.sk-parallel-item::before {content: \"\";position: absolute;border-left: 1px solid gray;box-sizing: border-box;top: 0;bottom: 0;left: 50%;z-index: -1;}#sk-container-id-3 div.sk-parallel-item {display: flex;flex-direction: column;z-index: 1;position: relative;background-color: white;}#sk-container-id-3 div.sk-parallel-item:first-child::after {align-self: flex-end;width: 50%;}#sk-container-id-3 div.sk-parallel-item:last-child::after {align-self: flex-start;width: 50%;}#sk-container-id-3 div.sk-parallel-item:only-child::after {width: 0;}#sk-container-id-3 div.sk-dashed-wrapped {border: 1px dashed gray;margin: 0 0.4em 0.5em 0.4em;box-sizing: border-box;padding-bottom: 0.4em;background-color: white;}#sk-container-id-3 div.sk-label label {font-family: monospace;font-weight: bold;display: inline-block;line-height: 1.2em;}#sk-container-id-3 div.sk-label-container {text-align: center;}#sk-container-id-3 div.sk-container {/* jupyter's `normalize.less` sets `[hidden] { display: none; }` but bootstrap.min.css set `[hidden] { display: none !important; }` so we also need the `!important` here to be able to override the default hidden behavior on the sphinx rendered scikit-learn.org. See: https://github.com/scikit-learn/scikit-learn/issues/21755 */display: inline-block !important;position: relative;}#sk-container-id-3 div.sk-text-repr-fallback {display: none;}</style><div id=\"sk-container-id-3\" class=\"sk-top-container\"><div class=\"sk-text-repr-fallback\"><pre>GridSearchCV(cv=5,\n",
       "             estimator=Pipeline(steps=[(&#x27;standardscaler&#x27;, StandardScaler()),\n",
       "                                       (&#x27;svc&#x27;, SVC())]),\n",
       "             param_grid={&#x27;svc__C&#x27;: [0.001, 0.1, 1000, 10000, 1000000],\n",
       "                         &#x27;svc__class_weight&#x27;: [&#x27;balanced&#x27;, None],\n",
       "                         &#x27;svc__kernel&#x27;: [&#x27;rbf&#x27;]},\n",
       "             scoring=&#x27;f1_macro&#x27;, verbose=10)</pre><b>In a Jupyter environment, please rerun this cell to show the HTML representation or trust the notebook. <br />On GitHub, the HTML representation is unable to render, please try loading this page with nbviewer.org.</b></div><div class=\"sk-container\" hidden><div class=\"sk-item sk-dashed-wrapped\"><div class=\"sk-label-container\"><div class=\"sk-label sk-toggleable\"><input class=\"sk-toggleable__control sk-hidden--visually\" id=\"sk-estimator-id-7\" type=\"checkbox\" ><label for=\"sk-estimator-id-7\" class=\"sk-toggleable__label sk-toggleable__label-arrow\">GridSearchCV</label><div class=\"sk-toggleable__content\"><pre>GridSearchCV(cv=5,\n",
       "             estimator=Pipeline(steps=[(&#x27;standardscaler&#x27;, StandardScaler()),\n",
       "                                       (&#x27;svc&#x27;, SVC())]),\n",
       "             param_grid={&#x27;svc__C&#x27;: [0.001, 0.1, 1000, 10000, 1000000],\n",
       "                         &#x27;svc__class_weight&#x27;: [&#x27;balanced&#x27;, None],\n",
       "                         &#x27;svc__kernel&#x27;: [&#x27;rbf&#x27;]},\n",
       "             scoring=&#x27;f1_macro&#x27;, verbose=10)</pre></div></div></div><div class=\"sk-parallel\"><div class=\"sk-parallel-item\"><div class=\"sk-item\"><div class=\"sk-label-container\"><div class=\"sk-label sk-toggleable\"><input class=\"sk-toggleable__control sk-hidden--visually\" id=\"sk-estimator-id-8\" type=\"checkbox\" ><label for=\"sk-estimator-id-8\" class=\"sk-toggleable__label sk-toggleable__label-arrow\">estimator: Pipeline</label><div class=\"sk-toggleable__content\"><pre>Pipeline(steps=[(&#x27;standardscaler&#x27;, StandardScaler()), (&#x27;svc&#x27;, SVC())])</pre></div></div></div><div class=\"sk-serial\"><div class=\"sk-item\"><div class=\"sk-serial\"><div class=\"sk-item\"><div class=\"sk-estimator sk-toggleable\"><input class=\"sk-toggleable__control sk-hidden--visually\" id=\"sk-estimator-id-9\" type=\"checkbox\" ><label for=\"sk-estimator-id-9\" class=\"sk-toggleable__label sk-toggleable__label-arrow\">StandardScaler</label><div class=\"sk-toggleable__content\"><pre>StandardScaler()</pre></div></div></div><div class=\"sk-item\"><div class=\"sk-estimator sk-toggleable\"><input class=\"sk-toggleable__control sk-hidden--visually\" id=\"sk-estimator-id-10\" type=\"checkbox\" ><label for=\"sk-estimator-id-10\" class=\"sk-toggleable__label sk-toggleable__label-arrow\">SVC</label><div class=\"sk-toggleable__content\"><pre>SVC()</pre></div></div></div></div></div></div></div></div></div></div></div></div>"
      ],
      "text/plain": [
       "GridSearchCV(cv=5,\n",
       "             estimator=Pipeline(steps=[('standardscaler', StandardScaler()),\n",
       "                                       ('svc', SVC())]),\n",
       "             param_grid={'svc__C': [0.001, 0.1, 1000, 10000, 1000000],\n",
       "                         'svc__class_weight': ['balanced', None],\n",
       "                         'svc__kernel': ['rbf']},\n",
       "             scoring='f1_macro', verbose=10)"
      ]
     },
     "execution_count": 20,
     "metadata": {},
     "output_type": "execute_result"
    }
   ],
   "source": [
    "pipe=make_pipeline(StandardScaler(),SVC())\n",
    "params={'svc__C':[0.001,0.1,1000,10000,1000000],\n",
    "       'svc__class_weight': ['balanced',None],\n",
    "       'svc__kernel':['rbf']}\n",
    "cls=GridSearchCV(pipe,params,cv=5,scoring='f1_macro',verbose=10)\n",
    "cls.fit(x_train,y_train)"
   ]
  },
  {
   "cell_type": "code",
   "execution_count": 21,
   "id": "7034dd45",
   "metadata": {},
   "outputs": [
    {
     "name": "stdout",
     "output_type": "stream",
     "text": [
      "Pipeline(steps=[('standardscaler', StandardScaler()),\n",
      "                ('svc', SVC(C=1000, class_weight='balanced'))])\n",
      "[[21  1  1  0]\n",
      " [ 1 11  0  0]\n",
      " [ 1  0 27  0]\n",
      " [ 0  0  0 10]]\n"
     ]
    }
   ],
   "source": [
    "y_pred=cls.predict(x_test)\n",
    "print(cls.best_estimator_)\n",
    "print(confusion_matrix(y_test,y_pred))"
   ]
  },
  {
   "cell_type": "markdown",
   "id": "a2e2fc01",
   "metadata": {},
   "source": [
    "# Pipeline"
   ]
  },
  {
   "cell_type": "code",
   "execution_count": 35,
   "id": "ce505c70",
   "metadata": {
    "collapsed": true
   },
   "outputs": [
    {
     "name": "stdout",
     "output_type": "stream",
     "text": [
      "Fitting 3 folds for each of 16 candidates, totalling 48 fits\n",
      "[CV 1/3; 1/16] START estimator=KNeighborsClassifier(), estimator__n_neighbors=4, scaler=StandardScaler()\n",
      "[CV 1/3; 1/16] END estimator=KNeighborsClassifier(), estimator__n_neighbors=4, scaler=StandardScaler();, score=0.901 total time=   0.0s\n",
      "[CV 2/3; 1/16] START estimator=KNeighborsClassifier(), estimator__n_neighbors=4, scaler=StandardScaler()\n",
      "[CV 2/3; 1/16] END estimator=KNeighborsClassifier(), estimator__n_neighbors=4, scaler=StandardScaler();, score=0.945 total time=   0.0s\n",
      "[CV 3/3; 1/16] START estimator=KNeighborsClassifier(), estimator__n_neighbors=4, scaler=StandardScaler()\n",
      "[CV 3/3; 1/16] END estimator=KNeighborsClassifier(), estimator__n_neighbors=4, scaler=StandardScaler();, score=0.844 total time=   0.0s\n",
      "[CV 1/3; 2/16] START estimator=KNeighborsClassifier(), estimator__n_neighbors=4, scaler=passthrough\n",
      "[CV 1/3; 2/16] END estimator=KNeighborsClassifier(), estimator__n_neighbors=4, scaler=passthrough;, score=0.373 total time=   0.0s\n",
      "[CV 2/3; 2/16] START estimator=KNeighborsClassifier(), estimator__n_neighbors=4, scaler=passthrough\n",
      "[CV 2/3; 2/16] END estimator=KNeighborsClassifier(), estimator__n_neighbors=4, scaler=passthrough;, score=0.438 total time=   0.0s\n",
      "[CV 3/3; 2/16] START estimator=KNeighborsClassifier(), estimator__n_neighbors=4, scaler=passthrough\n",
      "[CV 3/3; 2/16] END estimator=KNeighborsClassifier(), estimator__n_neighbors=4, scaler=passthrough;, score=0.327 total time=   0.0s\n",
      "[CV 1/3; 3/16] START estimator=KNeighborsClassifier(), estimator__n_neighbors=6, scaler=StandardScaler()\n",
      "[CV 1/3; 3/16] END estimator=KNeighborsClassifier(), estimator__n_neighbors=6, scaler=StandardScaler();, score=0.875 total time=   0.0s\n",
      "[CV 2/3; 3/16] START estimator=KNeighborsClassifier(), estimator__n_neighbors=6, scaler=StandardScaler()\n",
      "[CV 2/3; 3/16] END estimator=KNeighborsClassifier(), estimator__n_neighbors=6, scaler=StandardScaler();, score=0.964 total time=   0.0s\n",
      "[CV 3/3; 3/16] START estimator=KNeighborsClassifier(), estimator__n_neighbors=6, scaler=StandardScaler()\n",
      "[CV 3/3; 3/16] END estimator=KNeighborsClassifier(), estimator__n_neighbors=6, scaler=StandardScaler();, score=0.824 total time=   0.0s\n",
      "[CV 1/3; 4/16] START estimator=KNeighborsClassifier(), estimator__n_neighbors=6, scaler=passthrough\n",
      "[CV 1/3; 4/16] END estimator=KNeighborsClassifier(), estimator__n_neighbors=6, scaler=passthrough;, score=0.369 total time=   0.0s\n",
      "[CV 2/3; 4/16] START estimator=KNeighborsClassifier(), estimator__n_neighbors=6, scaler=passthrough\n",
      "[CV 2/3; 4/16] END estimator=KNeighborsClassifier(), estimator__n_neighbors=6, scaler=passthrough;, score=0.338 total time=   0.0s\n",
      "[CV 3/3; 4/16] START estimator=KNeighborsClassifier(), estimator__n_neighbors=6, scaler=passthrough\n",
      "[CV 3/3; 4/16] END estimator=KNeighborsClassifier(), estimator__n_neighbors=6, scaler=passthrough;, score=0.355 total time=   0.0s\n",
      "[CV 1/3; 5/16] START estimator=KNeighborsClassifier(), estimator__n_neighbors=10, scaler=StandardScaler()\n",
      "[CV 1/3; 5/16] END estimator=KNeighborsClassifier(), estimator__n_neighbors=10, scaler=StandardScaler();, score=0.904 total time=   0.0s\n",
      "[CV 2/3; 5/16] START estimator=KNeighborsClassifier(), estimator__n_neighbors=10, scaler=StandardScaler()\n",
      "[CV 2/3; 5/16] END estimator=KNeighborsClassifier(), estimator__n_neighbors=10, scaler=StandardScaler();, score=0.928 total time=   0.0s\n",
      "[CV 3/3; 5/16] START estimator=KNeighborsClassifier(), estimator__n_neighbors=10, scaler=StandardScaler()\n",
      "[CV 3/3; 5/16] END estimator=KNeighborsClassifier(), estimator__n_neighbors=10, scaler=StandardScaler();, score=0.835 total time=   0.0s\n",
      "[CV 1/3; 6/16] START estimator=KNeighborsClassifier(), estimator__n_neighbors=10, scaler=passthrough\n",
      "[CV 1/3; 6/16] END estimator=KNeighborsClassifier(), estimator__n_neighbors=10, scaler=passthrough;, score=0.414 total time=   0.0s\n",
      "[CV 2/3; 6/16] START estimator=KNeighborsClassifier(), estimator__n_neighbors=10, scaler=passthrough\n",
      "[CV 2/3; 6/16] END estimator=KNeighborsClassifier(), estimator__n_neighbors=10, scaler=passthrough;, score=0.380 total time=   0.0s\n",
      "[CV 3/3; 6/16] START estimator=KNeighborsClassifier(), estimator__n_neighbors=10, scaler=passthrough\n",
      "[CV 3/3; 6/16] END estimator=KNeighborsClassifier(), estimator__n_neighbors=10, scaler=passthrough;, score=0.305 total time=   0.0s\n",
      "[CV 1/3; 7/16] START estimator=SVC(), estimator__C=10, scaler=StandardScaler()..\n",
      "[CV 1/3; 7/16] END estimator=SVC(), estimator__C=10, scaler=StandardScaler();, score=0.941 total time=   0.0s\n",
      "[CV 2/3; 7/16] START estimator=SVC(), estimator__C=10, scaler=StandardScaler()..\n",
      "[CV 2/3; 7/16] END estimator=SVC(), estimator__C=10, scaler=StandardScaler();, score=0.936 total time=   0.0s\n",
      "[CV 3/3; 7/16] START estimator=SVC(), estimator__C=10, scaler=StandardScaler()..\n",
      "[CV 3/3; 7/16] END estimator=SVC(), estimator__C=10, scaler=StandardScaler();, score=0.916 total time=   0.0s\n",
      "[CV 1/3; 8/16] START estimator=SVC(), estimator__C=10, scaler=passthrough.......\n",
      "[CV 1/3; 8/16] END estimator=SVC(), estimator__C=10, scaler=passthrough;, score=0.299 total time=   0.0s\n",
      "[CV 2/3; 8/16] START estimator=SVC(), estimator__C=10, scaler=passthrough.......\n",
      "[CV 2/3; 8/16] END estimator=SVC(), estimator__C=10, scaler=passthrough;, score=0.361 total time=   0.0s\n",
      "[CV 3/3; 8/16] START estimator=SVC(), estimator__C=10, scaler=passthrough.......\n",
      "[CV 3/3; 8/16] END estimator=SVC(), estimator__C=10, scaler=passthrough;, score=0.390 total time=   0.0s\n",
      "[CV 1/3; 9/16] START estimator=SVC(), estimator__C=1000, scaler=StandardScaler()\n",
      "[CV 1/3; 9/16] END estimator=SVC(), estimator__C=1000, scaler=StandardScaler();, score=0.934 total time=   0.0s\n",
      "[CV 2/3; 9/16] START estimator=SVC(), estimator__C=1000, scaler=StandardScaler()\n",
      "[CV 2/3; 9/16] END estimator=SVC(), estimator__C=1000, scaler=StandardScaler();, score=0.952 total time=   0.0s\n",
      "[CV 3/3; 9/16] START estimator=SVC(), estimator__C=1000, scaler=StandardScaler()\n",
      "[CV 3/3; 9/16] END estimator=SVC(), estimator__C=1000, scaler=StandardScaler();, score=0.865 total time=   0.0s\n",
      "[CV 1/3; 10/16] START estimator=SVC(), estimator__C=1000, scaler=passthrough....\n",
      "[CV 1/3; 10/16] END estimator=SVC(), estimator__C=1000, scaler=passthrough;, score=0.422 total time=   0.0s\n",
      "[CV 2/3; 10/16] START estimator=SVC(), estimator__C=1000, scaler=passthrough....\n",
      "[CV 2/3; 10/16] END estimator=SVC(), estimator__C=1000, scaler=passthrough;, score=0.354 total time=   0.0s\n",
      "[CV 3/3; 10/16] START estimator=SVC(), estimator__C=1000, scaler=passthrough....\n",
      "[CV 3/3; 10/16] END estimator=SVC(), estimator__C=1000, scaler=passthrough;, score=0.370 total time=   0.0s\n",
      "[CV 1/3; 11/16] START estimator=RandomForestClassifier(), estimator__min_samples_leaf=3, scaler=StandardScaler()\n",
      "[CV 1/3; 11/16] END estimator=RandomForestClassifier(), estimator__min_samples_leaf=3, scaler=StandardScaler();, score=0.931 total time=   0.2s\n",
      "[CV 2/3; 11/16] START estimator=RandomForestClassifier(), estimator__min_samples_leaf=3, scaler=StandardScaler()\n",
      "[CV 2/3; 11/16] END estimator=RandomForestClassifier(), estimator__min_samples_leaf=3, scaler=StandardScaler();, score=0.908 total time=   0.2s\n",
      "[CV 3/3; 11/16] START estimator=RandomForestClassifier(), estimator__min_samples_leaf=3, scaler=StandardScaler()\n",
      "[CV 3/3; 11/16] END estimator=RandomForestClassifier(), estimator__min_samples_leaf=3, scaler=StandardScaler();, score=0.821 total time=   0.2s\n",
      "[CV 1/3; 12/16] START estimator=RandomForestClassifier(), estimator__min_samples_leaf=3, scaler=passthrough\n",
      "[CV 1/3; 12/16] END estimator=RandomForestClassifier(), estimator__min_samples_leaf=3, scaler=passthrough;, score=0.964 total time=   0.2s\n",
      "[CV 2/3; 12/16] START estimator=RandomForestClassifier(), estimator__min_samples_leaf=3, scaler=passthrough\n",
      "[CV 2/3; 12/16] END estimator=RandomForestClassifier(), estimator__min_samples_leaf=3, scaler=passthrough;, score=0.881 total time=   0.2s\n",
      "[CV 3/3; 12/16] START estimator=RandomForestClassifier(), estimator__min_samples_leaf=3, scaler=passthrough\n",
      "[CV 3/3; 12/16] END estimator=RandomForestClassifier(), estimator__min_samples_leaf=3, scaler=passthrough;, score=0.817 total time=   0.2s\n",
      "[CV 1/3; 13/16] START estimator=RandomForestClassifier(), estimator__min_samples_leaf=6, scaler=StandardScaler()\n"
     ]
    },
    {
     "name": "stdout",
     "output_type": "stream",
     "text": [
      "[CV 1/3; 13/16] END estimator=RandomForestClassifier(), estimator__min_samples_leaf=6, scaler=StandardScaler();, score=0.917 total time=   0.2s\n",
      "[CV 2/3; 13/16] START estimator=RandomForestClassifier(), estimator__min_samples_leaf=6, scaler=StandardScaler()\n",
      "[CV 2/3; 13/16] END estimator=RandomForestClassifier(), estimator__min_samples_leaf=6, scaler=StandardScaler();, score=0.886 total time=   0.2s\n",
      "[CV 3/3; 13/16] START estimator=RandomForestClassifier(), estimator__min_samples_leaf=6, scaler=StandardScaler()\n",
      "[CV 3/3; 13/16] END estimator=RandomForestClassifier(), estimator__min_samples_leaf=6, scaler=StandardScaler();, score=0.816 total time=   0.3s\n",
      "[CV 1/3; 14/16] START estimator=RandomForestClassifier(), estimator__min_samples_leaf=6, scaler=passthrough\n",
      "[CV 1/3; 14/16] END estimator=RandomForestClassifier(), estimator__min_samples_leaf=6, scaler=passthrough;, score=0.944 total time=   0.3s\n",
      "[CV 2/3; 14/16] START estimator=RandomForestClassifier(), estimator__min_samples_leaf=6, scaler=passthrough\n",
      "[CV 2/3; 14/16] END estimator=RandomForestClassifier(), estimator__min_samples_leaf=6, scaler=passthrough;, score=0.886 total time=   0.2s\n",
      "[CV 3/3; 14/16] START estimator=RandomForestClassifier(), estimator__min_samples_leaf=6, scaler=passthrough\n",
      "[CV 3/3; 14/16] END estimator=RandomForestClassifier(), estimator__min_samples_leaf=6, scaler=passthrough;, score=0.799 total time=   0.2s\n",
      "[CV 1/3; 15/16] START estimator=RidgeClassifier(), scaler=StandardScaler()......\n",
      "[CV 1/3; 15/16] END estimator=RidgeClassifier(), scaler=StandardScaler();, score=0.437 total time=   0.0s\n",
      "[CV 2/3; 15/16] START estimator=RidgeClassifier(), scaler=StandardScaler()......\n",
      "[CV 2/3; 15/16] END estimator=RidgeClassifier(), scaler=StandardScaler();, score=0.492 total time=   0.0s\n",
      "[CV 3/3; 15/16] START estimator=RidgeClassifier(), scaler=StandardScaler()......\n",
      "[CV 3/3; 15/16] END estimator=RidgeClassifier(), scaler=StandardScaler();, score=0.479 total time=   0.0s\n",
      "[CV 1/3; 16/16] START estimator=RidgeClassifier(), scaler=passthrough...........\n",
      "[CV 1/3; 16/16] END estimator=RidgeClassifier(), scaler=passthrough;, score=0.437 total time=   0.0s\n",
      "[CV 2/3; 16/16] START estimator=RidgeClassifier(), scaler=passthrough...........\n",
      "[CV 2/3; 16/16] END estimator=RidgeClassifier(), scaler=passthrough;, score=0.492 total time=   0.0s\n",
      "[CV 3/3; 16/16] START estimator=RidgeClassifier(), scaler=passthrough...........\n",
      "[CV 3/3; 16/16] END estimator=RidgeClassifier(), scaler=passthrough;, score=0.479 total time=   0.0s\n"
     ]
    },
    {
     "data": {
      "text/html": [
       "<style>#sk-container-id-5 {color: black;}#sk-container-id-5 pre{padding: 0;}#sk-container-id-5 div.sk-toggleable {background-color: white;}#sk-container-id-5 label.sk-toggleable__label {cursor: pointer;display: block;width: 100%;margin-bottom: 0;padding: 0.3em;box-sizing: border-box;text-align: center;}#sk-container-id-5 label.sk-toggleable__label-arrow:before {content: \"▸\";float: left;margin-right: 0.25em;color: #696969;}#sk-container-id-5 label.sk-toggleable__label-arrow:hover:before {color: black;}#sk-container-id-5 div.sk-estimator:hover label.sk-toggleable__label-arrow:before {color: black;}#sk-container-id-5 div.sk-toggleable__content {max-height: 0;max-width: 0;overflow: hidden;text-align: left;background-color: #f0f8ff;}#sk-container-id-5 div.sk-toggleable__content pre {margin: 0.2em;color: black;border-radius: 0.25em;background-color: #f0f8ff;}#sk-container-id-5 input.sk-toggleable__control:checked~div.sk-toggleable__content {max-height: 200px;max-width: 100%;overflow: auto;}#sk-container-id-5 input.sk-toggleable__control:checked~label.sk-toggleable__label-arrow:before {content: \"▾\";}#sk-container-id-5 div.sk-estimator input.sk-toggleable__control:checked~label.sk-toggleable__label {background-color: #d4ebff;}#sk-container-id-5 div.sk-label input.sk-toggleable__control:checked~label.sk-toggleable__label {background-color: #d4ebff;}#sk-container-id-5 input.sk-hidden--visually {border: 0;clip: rect(1px 1px 1px 1px);clip: rect(1px, 1px, 1px, 1px);height: 1px;margin: -1px;overflow: hidden;padding: 0;position: absolute;width: 1px;}#sk-container-id-5 div.sk-estimator {font-family: monospace;background-color: #f0f8ff;border: 1px dotted black;border-radius: 0.25em;box-sizing: border-box;margin-bottom: 0.5em;}#sk-container-id-5 div.sk-estimator:hover {background-color: #d4ebff;}#sk-container-id-5 div.sk-parallel-item::after {content: \"\";width: 100%;border-bottom: 1px solid gray;flex-grow: 1;}#sk-container-id-5 div.sk-label:hover label.sk-toggleable__label {background-color: #d4ebff;}#sk-container-id-5 div.sk-serial::before {content: \"\";position: absolute;border-left: 1px solid gray;box-sizing: border-box;top: 0;bottom: 0;left: 50%;z-index: 0;}#sk-container-id-5 div.sk-serial {display: flex;flex-direction: column;align-items: center;background-color: white;padding-right: 0.2em;padding-left: 0.2em;position: relative;}#sk-container-id-5 div.sk-item {position: relative;z-index: 1;}#sk-container-id-5 div.sk-parallel {display: flex;align-items: stretch;justify-content: center;background-color: white;position: relative;}#sk-container-id-5 div.sk-item::before, #sk-container-id-5 div.sk-parallel-item::before {content: \"\";position: absolute;border-left: 1px solid gray;box-sizing: border-box;top: 0;bottom: 0;left: 50%;z-index: -1;}#sk-container-id-5 div.sk-parallel-item {display: flex;flex-direction: column;z-index: 1;position: relative;background-color: white;}#sk-container-id-5 div.sk-parallel-item:first-child::after {align-self: flex-end;width: 50%;}#sk-container-id-5 div.sk-parallel-item:last-child::after {align-self: flex-start;width: 50%;}#sk-container-id-5 div.sk-parallel-item:only-child::after {width: 0;}#sk-container-id-5 div.sk-dashed-wrapped {border: 1px dashed gray;margin: 0 0.4em 0.5em 0.4em;box-sizing: border-box;padding-bottom: 0.4em;background-color: white;}#sk-container-id-5 div.sk-label label {font-family: monospace;font-weight: bold;display: inline-block;line-height: 1.2em;}#sk-container-id-5 div.sk-label-container {text-align: center;}#sk-container-id-5 div.sk-container {/* jupyter's `normalize.less` sets `[hidden] { display: none; }` but bootstrap.min.css set `[hidden] { display: none !important; }` so we also need the `!important` here to be able to override the default hidden behavior on the sphinx rendered scikit-learn.org. See: https://github.com/scikit-learn/scikit-learn/issues/21755 */display: inline-block !important;position: relative;}#sk-container-id-5 div.sk-text-repr-fallback {display: none;}</style><div id=\"sk-container-id-5\" class=\"sk-top-container\"><div class=\"sk-text-repr-fallback\"><pre>GridSearchCV(cv=3,\n",
       "             estimator=Pipeline(steps=[(&#x27;scaler&#x27;, StandardScaler()),\n",
       "                                       (&#x27;estimator&#x27;, KNeighborsClassifier())]),\n",
       "             param_grid=[{&#x27;estimator&#x27;: [KNeighborsClassifier()],\n",
       "                          &#x27;estimator__n_neighbors&#x27;: [4, 6, 10],\n",
       "                          &#x27;scaler&#x27;: [StandardScaler(), &#x27;passthrough&#x27;]},\n",
       "                         {&#x27;estimator&#x27;: [SVC(C=10)], &#x27;estimator__C&#x27;: [10, 1000],\n",
       "                          &#x27;scaler&#x27;: [StandardScaler(), &#x27;passthrough&#x27;]},\n",
       "                         {&#x27;estimator&#x27;: [RandomForestClassifier()],\n",
       "                          &#x27;estimator__min_samples_leaf&#x27;: [3, 6],\n",
       "                          &#x27;scaler&#x27;: [StandardScaler(), &#x27;passthrough&#x27;]},\n",
       "                         {&#x27;estimator&#x27;: [RidgeClassifier()],\n",
       "                          &#x27;scaler&#x27;: [StandardScaler(), &#x27;passthrough&#x27;]}],\n",
       "             scoring=&#x27;f1_macro&#x27;, verbose=10)</pre><b>In a Jupyter environment, please rerun this cell to show the HTML representation or trust the notebook. <br />On GitHub, the HTML representation is unable to render, please try loading this page with nbviewer.org.</b></div><div class=\"sk-container\" hidden><div class=\"sk-item sk-dashed-wrapped\"><div class=\"sk-label-container\"><div class=\"sk-label sk-toggleable\"><input class=\"sk-toggleable__control sk-hidden--visually\" id=\"sk-estimator-id-15\" type=\"checkbox\" ><label for=\"sk-estimator-id-15\" class=\"sk-toggleable__label sk-toggleable__label-arrow\">GridSearchCV</label><div class=\"sk-toggleable__content\"><pre>GridSearchCV(cv=3,\n",
       "             estimator=Pipeline(steps=[(&#x27;scaler&#x27;, StandardScaler()),\n",
       "                                       (&#x27;estimator&#x27;, KNeighborsClassifier())]),\n",
       "             param_grid=[{&#x27;estimator&#x27;: [KNeighborsClassifier()],\n",
       "                          &#x27;estimator__n_neighbors&#x27;: [4, 6, 10],\n",
       "                          &#x27;scaler&#x27;: [StandardScaler(), &#x27;passthrough&#x27;]},\n",
       "                         {&#x27;estimator&#x27;: [SVC(C=10)], &#x27;estimator__C&#x27;: [10, 1000],\n",
       "                          &#x27;scaler&#x27;: [StandardScaler(), &#x27;passthrough&#x27;]},\n",
       "                         {&#x27;estimator&#x27;: [RandomForestClassifier()],\n",
       "                          &#x27;estimator__min_samples_leaf&#x27;: [3, 6],\n",
       "                          &#x27;scaler&#x27;: [StandardScaler(), &#x27;passthrough&#x27;]},\n",
       "                         {&#x27;estimator&#x27;: [RidgeClassifier()],\n",
       "                          &#x27;scaler&#x27;: [StandardScaler(), &#x27;passthrough&#x27;]}],\n",
       "             scoring=&#x27;f1_macro&#x27;, verbose=10)</pre></div></div></div><div class=\"sk-parallel\"><div class=\"sk-parallel-item\"><div class=\"sk-item\"><div class=\"sk-label-container\"><div class=\"sk-label sk-toggleable\"><input class=\"sk-toggleable__control sk-hidden--visually\" id=\"sk-estimator-id-16\" type=\"checkbox\" ><label for=\"sk-estimator-id-16\" class=\"sk-toggleable__label sk-toggleable__label-arrow\">estimator: Pipeline</label><div class=\"sk-toggleable__content\"><pre>Pipeline(steps=[(&#x27;scaler&#x27;, StandardScaler()),\n",
       "                (&#x27;estimator&#x27;, KNeighborsClassifier())])</pre></div></div></div><div class=\"sk-serial\"><div class=\"sk-item\"><div class=\"sk-serial\"><div class=\"sk-item\"><div class=\"sk-estimator sk-toggleable\"><input class=\"sk-toggleable__control sk-hidden--visually\" id=\"sk-estimator-id-17\" type=\"checkbox\" ><label for=\"sk-estimator-id-17\" class=\"sk-toggleable__label sk-toggleable__label-arrow\">StandardScaler</label><div class=\"sk-toggleable__content\"><pre>StandardScaler()</pre></div></div></div><div class=\"sk-item\"><div class=\"sk-estimator sk-toggleable\"><input class=\"sk-toggleable__control sk-hidden--visually\" id=\"sk-estimator-id-18\" type=\"checkbox\" ><label for=\"sk-estimator-id-18\" class=\"sk-toggleable__label sk-toggleable__label-arrow\">KNeighborsClassifier</label><div class=\"sk-toggleable__content\"><pre>KNeighborsClassifier()</pre></div></div></div></div></div></div></div></div></div></div></div></div>"
      ],
      "text/plain": [
       "GridSearchCV(cv=3,\n",
       "             estimator=Pipeline(steps=[('scaler', StandardScaler()),\n",
       "                                       ('estimator', KNeighborsClassifier())]),\n",
       "             param_grid=[{'estimator': [KNeighborsClassifier()],\n",
       "                          'estimator__n_neighbors': [4, 6, 10],\n",
       "                          'scaler': [StandardScaler(), 'passthrough']},\n",
       "                         {'estimator': [SVC(C=10)], 'estimator__C': [10, 1000],\n",
       "                          'scaler': [StandardScaler(), 'passthrough']},\n",
       "                         {'estimator': [RandomForestClassifier()],\n",
       "                          'estimator__min_samples_leaf': [3, 6],\n",
       "                          'scaler': [StandardScaler(), 'passthrough']},\n",
       "                         {'estimator': [RidgeClassifier()],\n",
       "                          'scaler': [StandardScaler(), 'passthrough']}],\n",
       "             scoring='f1_macro', verbose=10)"
      ]
     },
     "execution_count": 35,
     "metadata": {},
     "output_type": "execute_result"
    }
   ],
   "source": [
    "pipe=Pipeline([('scaler', StandardScaler()),\n",
    "            ('estimator', KNeighborsClassifier())])\n",
    "params=[{'estimator':[KNeighborsClassifier()],\n",
    "         'estimator__n_neighbors':[4,6,10],\n",
    "        'scaler':[StandardScaler(),'passthrough']},\n",
    "       {'estimator':[SVC()],\n",
    "         'estimator__C':[10,1000],\n",
    "        'scaler':[StandardScaler(),'passthrough']},\n",
    "        {'estimator':[RandomForestClassifier()],\n",
    "         'estimator__min_samples_leaf':[3,6],\n",
    "        'scaler':[StandardScaler(),'passthrough']},\n",
    "       {'estimator':[RidgeClassifier()],\n",
    "        'scaler':[StandardScaler(),'passthrough']}]\n",
    "cls=GridSearchCV(pipe,params,cv=3,scoring='f1_macro',verbose=10)\n",
    "cls.fit(x_train,y_train)"
   ]
  },
  {
   "cell_type": "code",
   "execution_count": 37,
   "id": "382257fe",
   "metadata": {},
   "outputs": [
    {
     "name": "stdout",
     "output_type": "stream",
     "text": [
      "[[22  1  0  0]\n",
      " [ 0 12  0  0]\n",
      " [ 1  0 27  0]\n",
      " [ 0  0  0 10]]\n",
      "Pipeline(steps=[('scaler', StandardScaler()), ('estimator', SVC(C=10))])\n"
     ]
    }
   ],
   "source": [
    "cls.score(x_test,y_test)\n",
    "y_pred=cls.predict(x_test)\n",
    "print(confusion_matrix(y_test,y_pred))\n",
    "print(cls.best_estimator_)"
   ]
  }
 ],
 "metadata": {
  "kernelspec": {
   "display_name": "Python 3 (ipykernel)",
   "language": "python",
   "name": "python3"
  },
  "language_info": {
   "codemirror_mode": {
    "name": "ipython",
    "version": 3
   },
   "file_extension": ".py",
   "mimetype": "text/x-python",
   "name": "python",
   "nbconvert_exporter": "python",
   "pygments_lexer": "ipython3",
   "version": "3.11.5"
  }
 },
 "nbformat": 4,
 "nbformat_minor": 5
}
